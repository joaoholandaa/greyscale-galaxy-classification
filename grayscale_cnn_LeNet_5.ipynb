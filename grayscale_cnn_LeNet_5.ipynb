{
  "cells": [
    {
      "cell_type": "code",
      "execution_count": null,
      "metadata": {
        "id": "8AsrzcTXmu59"
      },
      "outputs": [],
      "source": [
        "import tensorflow as tf\n",
        "tf.test.gpu_device_name()"
      ]
    },
    {
      "cell_type": "code",
      "execution_count": null,
      "metadata": {
        "id": "5kVWYiWqm8ab"
      },
      "outputs": [],
      "source": [
        "from tensorflow.python.client import device_lib\n",
        "device_lib.list_local_devices()"
      ]
    },
    {
      "cell_type": "code",
      "execution_count": null,
      "metadata": {
        "colab": {
          "base_uri": "https://localhost:8080/",
          "height": 35
        },
        "id": "o0BH5v04m-FI",
        "outputId": "2ae93101-f00b-4c1b-bd10-0efe3200a103"
      },
      "outputs": [
        {
          "output_type": "execute_result",
          "data": {
            "text/plain": [
              "'2.8.2'"
            ],
            "application/vnd.google.colaboratory.intrinsic+json": {
              "type": "string"
            }
          },
          "metadata": {},
          "execution_count": 4
        }
      ],
      "source": [
        "import matplotlib.pyplot as plt\n",
        "import seaborn as sns\n",
        "import numpy as np\n",
        "import cv2\n",
        "from google.colab.patches import cv2_imshow\n",
        "import tensorflow as tf\n",
        "from tensorflow.keras.models import Sequential\n",
        "from tensorflow.keras.layers import Conv2D, MaxPool2D, Flatten, Dense, Dropout\n",
        "from tensorflow.keras.preprocessing.image import ImageDataGenerator\n",
        "from sklearn.metrics import accuracy_score\n",
        "from sklearn.metrics import confusion_matrix\n",
        "from sklearn.metrics import classification_report\n",
        "tf.__version__"
      ]
    },
    {
      "cell_type": "code",
      "execution_count": null,
      "metadata": {
        "id": "gamTGxwGm_r2"
      },
      "outputs": [],
      "source": [
        "training_generator = ImageDataGenerator(rescale=1./255,\n",
        "                                        zoom_range=[0.75,1.3],\n",
        "                                        rotation_range=45,\n",
        "                                        height_shift_range=0.05,\n",
        "                                        width_shift_range=0.05,\n",
        "                                        horizontal_flip=True,\n",
        "                                        vertical_flip=True)"
      ]
    },
    {
      "cell_type": "code",
      "execution_count": null,
      "metadata": {
        "id": "PzVZUQNznBsP"
      },
      "outputs": [],
      "source": [
        "training_dataset = training_generator.flow_from_directory('/content/drive/MyDrive/Colab Notebooks/research_ai_astrophysics/datasets-fapepi/galaxies/luminosity/train',\n",
        "                                                          target_size=(256, 256),\n",
        "                                                          batch_size=30,\n",
        "                                                          class_mode='categorical',\n",
        "                                                          shuffle=True)"
      ]
    },
    {
      "cell_type": "code",
      "execution_count": null,
      "metadata": {
        "id": "FUiBo-etnDe2"
      },
      "outputs": [],
      "source": [
        "training_dataset.classes"
      ]
    },
    {
      "cell_type": "code",
      "execution_count": null,
      "metadata": {
        "id": "2sdJdTtpnFmm"
      },
      "outputs": [],
      "source": [
        "training_dataset.class_indices"
      ]
    },
    {
      "cell_type": "code",
      "execution_count": null,
      "metadata": {
        "id": "U7iov0kAnHQ9"
      },
      "outputs": [],
      "source": [
        "test_generator = ImageDataGenerator(rescale=1./255)"
      ]
    },
    {
      "cell_type": "code",
      "execution_count": null,
      "metadata": {
        "id": "fd7jsAq5nI3G"
      },
      "outputs": [],
      "source": [
        "test_dataset = test_generator.flow_from_directory('/content/drive/MyDrive/Colab Notebooks/research_ai_astrophysics/datasets-fapepi/galaxies/luminosity/test',\n",
        "                                                  target_size=(256,256),\n",
        "                                                  batch_size=30,\n",
        "                                                  class_mode='categorical',\n",
        "                                                  shuffle=False)"
      ]
    },
    {
      "cell_type": "code",
      "execution_count": null,
      "metadata": {
        "id": "usr_j0kSnJdf"
      },
      "outputs": [],
      "source": [
        "from tensorflow.keras import layers, models\n",
        "\n",
        "LeNet = models.Sequential()\n",
        "\n",
        "LeNet.add(layers.Conv2D(6, (5,5), activation = 'relu', input_shape = (256, 256, 1)))\n",
        "LeNet.add(layers.AveragePooling2D())\n",
        "\n",
        "LeNet.add(layers.Conv2D(6, (5,5), activation = 'relu'))\n",
        "LeNet.add(layers.AveragePooling2D())\n",
        "\n",
        "LeNet.add(layers.Flatten())\n",
        "\n",
        "LeNet.add(layers.Dense(120, activation = 'relu'))\n",
        "\n",
        "LeNet.add(layers.Dense(84, activation = 'relu'))\n",
        "\n",
        "LeNet.add(layers.Dense(2, activation = 'softmax'))\n",
        "\n",
        "LeNet.summary()"
      ]
    },
    {
      "cell_type": "code",
      "execution_count": null,
      "metadata": {
        "id": "aGsSMRA8nM4e"
      },
      "outputs": [],
      "source": [
        "LeNet.compile(optimizer='Adam', loss='categorical_crossentropy', metrics=['accuracy'])"
      ]
    },
    {
      "cell_type": "code",
      "execution_count": null,
      "metadata": {
        "id": "_zeb9rhYnOct"
      },
      "outputs": [],
      "source": [
        "historico_lenet = LeNet.fit(training_dataset, epochs=20)"
      ]
    },
    {
      "cell_type": "code",
      "execution_count": null,
      "metadata": {
        "id": "78SCqkzFnSSo"
      },
      "outputs": [],
      "source": [
        "predictions = LeNet.predict(test_dataset)\n",
        "predictions"
      ]
    },
    {
      "cell_type": "code",
      "execution_count": null,
      "metadata": {
        "id": "3Hbrryu-nUUo"
      },
      "outputs": [],
      "source": [
        "predictions = np.argmax(predictions, axis=1)\n",
        "predictions"
      ]
    },
    {
      "cell_type": "code",
      "execution_count": null,
      "metadata": {
        "id": "kLLWPtzpnV0B"
      },
      "outputs": [],
      "source": [
        "test_dataset.classes"
      ]
    },
    {
      "cell_type": "code",
      "execution_count": null,
      "metadata": {
        "id": "Ie-aygwWnXut"
      },
      "outputs": [],
      "source": [
        "from sklearn.metrics import accuracy_score\n",
        "accuracy_score(test_dataset.classes, predictions)"
      ]
    },
    {
      "cell_type": "code",
      "execution_count": null,
      "metadata": {
        "id": "coM4u6z4nYe_"
      },
      "outputs": [],
      "source": [
        "validation_metrics = LeNet.evaluate(test_dataset)"
      ]
    },
    {
      "cell_type": "code",
      "execution_count": null,
      "metadata": {
        "id": "lhmbGm7Wna7m"
      },
      "outputs": [],
      "source": [
        "train_acc = historico_lenet.history['accuracy']\n",
        "train_loss = historico_lenet.history['loss']\n",
        "\n",
        "plt.figure(figsize=(15,5))\n",
        "plt.subplot(1,2,1)\n",
        "plt.plot(range(10), train_acc, label='Training Accuracy')\n",
        "plt.plot(range(10), train_loss, label='Training Loss')\n",
        "plt.legend(loc='center right')\n",
        "plt.title('Luma Algorithm Training Performance')\n",
        "plt.xlabel('Epochs')\n",
        "plt.ylabel('Percentage (%)')\n",
        "#(['loss', 'accuracy']) historico_lenet.history.keys()"
      ]
    },
    {
      "cell_type": "code",
      "execution_count": null,
      "metadata": {
        "id": "9eRIoGcjn4Iu"
      },
      "outputs": [],
      "source": [
        "from sklearn.metrics import confusion_matrix\n",
        "cm = confusion_matrix(test_dataset.classes, predictions)\n",
        "sns.heatmap(cm, annot=True)"
      ]
    },
    {
      "cell_type": "code",
      "execution_count": null,
      "metadata": {
        "id": "s1W98dvXn60_"
      },
      "outputs": [],
      "source": [
        "print(classification_report(test_dataset.classes, predictions))"
      ]
    }
  ],
  "metadata": {
    "accelerator": "GPU",
    "colab": {
      "collapsed_sections": [],
      "provenance": []
    },
    "gpuClass": "standard",
    "kernelspec": {
      "display_name": "Python 3",
      "name": "python3"
    },
    "language_info": {
      "name": "python"
    }
  },
  "nbformat": 4,
  "nbformat_minor": 0
}